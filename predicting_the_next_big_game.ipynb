{
  "cells": [
    {
      "cell_type": "markdown",
      "metadata": {
        "id": "view-in-github",
        "colab_type": "text"
      },
      "source": [
        "<a href=\"https://colab.research.google.com/github/evan-carey/cst383-project/blob/main/predicting_the_next_big_game.ipynb\" target=\"_parent\"><img src=\"https://colab.research.google.com/assets/colab-badge.svg\" alt=\"Open In Colab\"/></a>"
      ]
    },
    {
      "cell_type": "markdown",
      "id": "442da7a8-8aba-4c3e-8ac2-18e0b623f8fc",
      "metadata": {
        "id": "442da7a8-8aba-4c3e-8ac2-18e0b623f8fc"
      },
      "source": [
        "# Predicting The Next Big Game\n",
        "\n",
        "### By Omar Spiller Hernandez, Scott Lam, Evan Carey, and David Gil\n",
        "\n",
        "### 14 February 2024\n",
        "\n"
      ]
    },
    {
      "cell_type": "markdown",
      "id": "742b8bd4-a5a2-48b1-bf0b-ba0bff3a6c2a",
      "metadata": {
        "id": "742b8bd4-a5a2-48b1-bf0b-ba0bff3a6c2a"
      },
      "source": [
        "# Dataset\n"
      ]
    },
    {
      "cell_type": "markdown",
      "id": "3e9a092b-dfd8-40a3-9d9f-dd3b8e65dadc",
      "metadata": {
        "id": "3e9a092b-dfd8-40a3-9d9f-dd3b8e65dadc"
      },
      "source": [
        "The Steam games dataset is a collection of information of more than 97,000 games that are available on the steam platform. This dataset collects all data using the official Steam API and Steam spy which results in a snapshot of each game's attributes. This includes things such as names, release dates, financial metrics such as discounts as well as a look into user engagement. This is measured through how many users own the game, users currently engaged in playing the games and review statistics. There is also other data such as supported devices and operating systems, region and languages the game is available. With this much information it should be possible to run an analysis of a game's performance in the market.\n",
        "\n",
        "https://www.kaggle.com/datasets/fronkongames/steam-games-dataset"
      ]
    },
    {
      "cell_type": "markdown",
      "id": "c097bd76-387b-46f5-92f7-71dfb640f2c2",
      "metadata": {
        "id": "c097bd76-387b-46f5-92f7-71dfb640f2c2"
      },
      "source": [
        "# Prediction"
      ]
    },
    {
      "cell_type": "markdown",
      "id": "28340f9e-f6a1-4fe0-915e-8c71e31a191c",
      "metadata": {
        "id": "28340f9e-f6a1-4fe0-915e-8c71e31a191c"
      },
      "source": [
        "**Background**"
      ]
    },
    {
      "cell_type": "markdown",
      "id": "c7e39161-8ca8-49f9-932c-81136d61da86",
      "metadata": {
        "id": "c7e39161-8ca8-49f9-932c-81136d61da86"
      },
      "source": [
        "The video game market on Steam is competitive with countless titles released yearly on the platform. Developers and publishers could benefit from knowing what makes a game successful.We selected the STEAM games dataset for this project. The primary question or problem that we decided to solve with this dataset is \"Which game features based on the data are correlated with better user ratings?\" If we analyze the relationships between available pieces of data we can see which are measures of success that give higher user ratings. For a broader scope in our project we could ask ourselves if a predictive model can be created that will estimate the likelihood of a game achieving success on release, success based on ratings."
      ]
    },
    {
      "cell_type": "markdown",
      "id": "a657faf8-a4ed-4a3c-b771-c6299e341477",
      "metadata": {
        "id": "a657faf8-a4ed-4a3c-b771-c6299e341477"
      },
      "source": [
        "**What We Predict**"
      ]
    },
    {
      "cell_type": "markdown",
      "id": "f280f313-a970-4326-b109-21fcfc9df29e",
      "metadata": {
        "id": "f280f313-a970-4326-b109-21fcfc9df29e"
      },
      "source": [
        "We predict when a game has a high meta critic score and good reviews its the next big game."
      ]
    },
    {
      "cell_type": "markdown",
      "id": "ca829a0d-83fd-4759-9771-a5f72b95bc5f",
      "metadata": {
        "id": "ca829a0d-83fd-4759-9771-a5f72b95bc5f"
      },
      "source": [
        "# Features"
      ]
    },
    {
      "cell_type": "markdown",
      "id": "0eafe8a9-df10-4c70-9c5c-c5563bdcbfa8",
      "metadata": {
        "id": "0eafe8a9-df10-4c70-9c5c-c5563bdcbfa8"
      },
      "source": [
        "Using 'User score', 'Metacritic score', 'Positive', 'Negative', 'Recommendations', 'Reviews', 'About the game' and 'Estimated owners' we should be able to predict the next up and coming game on the market. While looking at reviews, overal scores, and number of sales of the games we'll discover the most top rated games on the market."
      ]
    },
    {
      "cell_type": "code",
      "execution_count": 4,
      "id": "0e62d3c7-21fd-4c3d-b974-29076d8186c0",
      "metadata": {
        "id": "0e62d3c7-21fd-4c3d-b974-29076d8186c0"
      },
      "outputs": [],
      "source": [
        "import numpy as np\n",
        "import pandas as pd\n",
        "from sklearn.model_selection import train_test_split\n",
        "from sklearn.preprocessing import StandardScaler\n",
        "from sklearn.neighbors import KNeighborsRegressor\n",
        "import matplotlib.pyplot as plt"
      ]
    },
    {
      "cell_type": "code",
      "execution_count": 5,
      "id": "1c138a90-e43d-4598-93bf-4cb8acf6ae5b",
      "metadata": {
        "id": "1c138a90-e43d-4598-93bf-4cb8acf6ae5b",
        "outputId": "8ae7f984-5dee-4128-a374-31e491592f9d",
        "colab": {
          "base_uri": "https://localhost:8080/",
          "height": 36
        }
      },
      "outputs": [
        {
          "output_type": "execute_result",
          "data": {
            "text/plain": [
              "<IPython.core.display.HTML object>"
            ],
            "text/html": [
              "<script>\n",
              "code_show=true;\n",
              "function code_toggle() {\n",
              " if (code_show){\n",
              " $('div.input').hide();\n",
              " } else {\n",
              " $('div.input').show();\n",
              " }\n",
              " code_show = !code_show\n",
              "}\n",
              "$( document ).ready(code_toggle);\n",
              "</script>\n",
              "<form action=\"javascript:code_toggle()\"><input type=\"submit\" value=\"Click here to display/hide the code.\"></form>"
            ]
          },
          "metadata": {},
          "execution_count": 5
        }
      ],
      "source": [
        "# code in this cell from:\n",
        "# https://stackoverflow.com/questions/27934885/how-to-hide-code-from-cells-in-ipython-notebook-visualized-with-nbviewer\n",
        "from IPython.display import HTML\n",
        "\n",
        "HTML('''<script>\n",
        "code_show=true;\n",
        "function code_toggle() {\n",
        " if (code_show){\n",
        " $('div.input').hide();\n",
        " } else {\n",
        " $('div.input').show();\n",
        " }\n",
        " code_show = !code_show\n",
        "}\n",
        "$( document ).ready(code_toggle);\n",
        "</script>\n",
        "<form action=\"javascript:code_toggle()\"><input type=\"submit\" value=\"Click here to display/hide the code.\"></form>''')"
      ]
    },
    {
      "cell_type": "markdown",
      "id": "01b6daf3-bf2f-4a7f-93f7-75bc23b0796d",
      "metadata": {
        "id": "01b6daf3-bf2f-4a7f-93f7-75bc23b0796d"
      },
      "source": [
        "## Upload Dataset"
      ]
    },
    {
      "cell_type": "markdown",
      "id": "b91d1e43-24ea-4ff7-a383-37e25588ee21",
      "metadata": {
        "id": "b91d1e43-24ea-4ff7-a383-37e25588ee21"
      },
      "source": [
        "Upload the \"games.csv\" file to your Jupyter Notebook project"
      ]
    },
    {
      "cell_type": "code",
      "execution_count": 6,
      "id": "12df82ed-d62d-4079-a3ff-90ed70bb96b4",
      "metadata": {
        "id": "12df82ed-d62d-4079-a3ff-90ed70bb96b4"
      },
      "outputs": [],
      "source": [
        "df = pd.read_csv(\"https://github.com/evan-carey/cst383-project/raw/refs/heads/main/converted.csv\")"
      ]
    },
    {
      "cell_type": "code",
      "execution_count": 7,
      "id": "57a11ab7-42ea-498e-a719-9ff7471a3067",
      "metadata": {
        "id": "57a11ab7-42ea-498e-a719-9ff7471a3067",
        "outputId": "95eb8b6e-3868-42bc-cd76-491513db3f35",
        "colab": {
          "base_uri": "https://localhost:8080/"
        }
      },
      "outputs": [
        {
          "output_type": "stream",
          "name": "stdout",
          "text": [
            "<class 'pandas.core.frame.DataFrame'>\n",
            "RangeIndex: 97410 entries, 0 to 97409\n",
            "Data columns (total 43 columns):\n",
            " #   Column                      Non-Null Count  Dtype  \n",
            "---  ------                      --------------  -----  \n",
            " 0   AppID                       97410 non-null  int64  \n",
            " 1   index                       97410 non-null  int64  \n",
            " 2   Name                        97404 non-null  object \n",
            " 3   Release date                97410 non-null  object \n",
            " 4   Required age                97410 non-null  int64  \n",
            " 5   Price                       97410 non-null  float64\n",
            " 6   DLC count                   97410 non-null  int64  \n",
            " 7   Detailed description        92562 non-null  object \n",
            " 8   About the game              92540 non-null  object \n",
            " 9   Short description           92631 non-null  object \n",
            " 10  Reviews                     10125 non-null  object \n",
            " 11  Header image                97410 non-null  object \n",
            " 12  Website                     42737 non-null  object \n",
            " 13  Support url                 45900 non-null  object \n",
            " 14  Support email               81375 non-null  object \n",
            " 15  Windows                     97410 non-null  bool   \n",
            " 16  Mac                         97410 non-null  bool   \n",
            " 17  Linux                       97410 non-null  bool   \n",
            " 18  Metacritic score            97410 non-null  int64  \n",
            " 19  Metacritic url              3953 non-null   object \n",
            " 20  Achievements                97410 non-null  int64  \n",
            " 21  Recommendations             97410 non-null  int64  \n",
            " 22  Notes                       15473 non-null  object \n",
            " 23  Supported languages         92579 non-null  object \n",
            " 24  Full audio languages        40393 non-null  object \n",
            " 25  Packages                    97410 non-null  object \n",
            " 26  Developers                  92533 non-null  object \n",
            " 27  Publishers                  92239 non-null  object \n",
            " 28  Categories                  91497 non-null  object \n",
            " 29  Genres                      92569 non-null  object \n",
            " 30  Screenshots                 94515 non-null  object \n",
            " 31  Movies                      89519 non-null  object \n",
            " 32  User score                  97410 non-null  int64  \n",
            " 33  Score rank                  44 non-null     float64\n",
            " 34  Positive                    97410 non-null  int64  \n",
            " 35  Negative                    97410 non-null  int64  \n",
            " 36  Estimated owners            97410 non-null  object \n",
            " 37  Average playtime forever    97410 non-null  int64  \n",
            " 38  Average playtime two weeks  97410 non-null  int64  \n",
            " 39  Median playtime forever     97410 non-null  int64  \n",
            " 40  Median playtime two weeks   97410 non-null  int64  \n",
            " 41  Peak CCU                    97410 non-null  int64  \n",
            " 42  Tags                        67647 non-null  object \n",
            "dtypes: bool(3), float64(2), int64(15), object(23)\n",
            "memory usage: 30.0+ MB\n"
          ]
        }
      ],
      "source": [
        "df.info()"
      ]
    },
    {
      "cell_type": "code",
      "execution_count": 8,
      "id": "41de77fc-f983-4432-ac8f-2c43984b9d33",
      "metadata": {
        "id": "41de77fc-f983-4432-ac8f-2c43984b9d33",
        "outputId": "ba11833e-1d27-48ab-8da4-f0f5eeebf100",
        "colab": {
          "base_uri": "https://localhost:8080/",
          "height": 355
        }
      },
      "outputs": [
        {
          "output_type": "execute_result",
          "data": {
            "text/plain": [
              "              AppID         index  Required age         Price     DLC count  \\\n",
              "count  9.741000e+04  9.741000e+04  97410.000000  97410.000000  97410.000000   \n",
              "mean   1.524636e+06  1.524636e+06      0.282497      7.086262      0.493081   \n",
              "std    8.001310e+05  8.001310e+05      2.144294     12.387782     12.832834   \n",
              "min    1.000000e+01  1.000000e+01      0.000000      0.000000      0.000000   \n",
              "25%    8.477925e+05  8.477925e+05      0.000000      0.990000      0.000000   \n",
              "50%    1.489990e+06  1.489990e+06      0.000000      4.190000      0.000000   \n",
              "75%    2.180648e+06  2.180648e+06      0.000000      9.990000      0.000000   \n",
              "max    3.199580e+06  3.199580e+06     21.000000    999.980000   2366.000000   \n",
              "\n",
              "       Metacritic score  Achievements  Recommendations    User score  \\\n",
              "count      97410.000000  97410.000000     9.741000e+04  97410.000000   \n",
              "mean           2.959193     18.562622     6.905128e+02      0.034791   \n",
              "std           14.545462    160.413540     1.681717e+04      1.674105   \n",
              "min            0.000000      0.000000     0.000000e+00      0.000000   \n",
              "25%            0.000000      0.000000     0.000000e+00      0.000000   \n",
              "50%            0.000000      0.000000     0.000000e+00      0.000000   \n",
              "75%            0.000000     17.000000     0.000000e+00      0.000000   \n",
              "max           97.000000   9821.000000     3.441592e+06    100.000000   \n",
              "\n",
              "       Score rank      Positive       Negative  Average playtime forever  \\\n",
              "count   44.000000  9.741000e+04   97410.000000              97410.000000   \n",
              "mean    98.909091  8.489366e+02     141.065989                 91.797937   \n",
              "std      0.857747  2.287011e+04    4278.019743               1068.494928   \n",
              "min     97.000000  0.000000e+00       0.000000                  0.000000   \n",
              "25%     98.000000  0.000000e+00       0.000000                  0.000000   \n",
              "50%     99.000000  5.000000e+00       1.000000                  0.000000   \n",
              "75%    100.000000  3.500000e+01      10.000000                  0.000000   \n",
              "max    100.000000  5.764420e+06  895978.000000             145727.000000   \n",
              "\n",
              "       Average playtime two weeks  Median playtime forever  \\\n",
              "count                97410.000000             97410.000000   \n",
              "mean                     9.621271                81.852459   \n",
              "std                    177.190210              1412.496536   \n",
              "min                      0.000000                 0.000000   \n",
              "25%                      0.000000                 0.000000   \n",
              "50%                      0.000000                 0.000000   \n",
              "75%                      0.000000                 0.000000   \n",
              "max                  19159.000000            208473.000000   \n",
              "\n",
              "       Median playtime two weeks      Peak CCU  \n",
              "count               97410.000000  9.741000e+04  \n",
              "mean                   10.340417  1.627283e+02  \n",
              "std                   192.711603  7.687116e+03  \n",
              "min                     0.000000  0.000000e+00  \n",
              "25%                     0.000000  0.000000e+00  \n",
              "50%                     0.000000  0.000000e+00  \n",
              "75%                     0.000000  1.000000e+00  \n",
              "max                 19159.000000  1.284268e+06  "
            ],
            "text/html": [
              "\n",
              "  <div id=\"df-27fa124d-7b2d-421b-8553-8fa228e93306\" class=\"colab-df-container\">\n",
              "    <div>\n",
              "<style scoped>\n",
              "    .dataframe tbody tr th:only-of-type {\n",
              "        vertical-align: middle;\n",
              "    }\n",
              "\n",
              "    .dataframe tbody tr th {\n",
              "        vertical-align: top;\n",
              "    }\n",
              "\n",
              "    .dataframe thead th {\n",
              "        text-align: right;\n",
              "    }\n",
              "</style>\n",
              "<table border=\"1\" class=\"dataframe\">\n",
              "  <thead>\n",
              "    <tr style=\"text-align: right;\">\n",
              "      <th></th>\n",
              "      <th>AppID</th>\n",
              "      <th>index</th>\n",
              "      <th>Required age</th>\n",
              "      <th>Price</th>\n",
              "      <th>DLC count</th>\n",
              "      <th>Metacritic score</th>\n",
              "      <th>Achievements</th>\n",
              "      <th>Recommendations</th>\n",
              "      <th>User score</th>\n",
              "      <th>Score rank</th>\n",
              "      <th>Positive</th>\n",
              "      <th>Negative</th>\n",
              "      <th>Average playtime forever</th>\n",
              "      <th>Average playtime two weeks</th>\n",
              "      <th>Median playtime forever</th>\n",
              "      <th>Median playtime two weeks</th>\n",
              "      <th>Peak CCU</th>\n",
              "    </tr>\n",
              "  </thead>\n",
              "  <tbody>\n",
              "    <tr>\n",
              "      <th>count</th>\n",
              "      <td>9.741000e+04</td>\n",
              "      <td>9.741000e+04</td>\n",
              "      <td>97410.000000</td>\n",
              "      <td>97410.000000</td>\n",
              "      <td>97410.000000</td>\n",
              "      <td>97410.000000</td>\n",
              "      <td>97410.000000</td>\n",
              "      <td>9.741000e+04</td>\n",
              "      <td>97410.000000</td>\n",
              "      <td>44.000000</td>\n",
              "      <td>9.741000e+04</td>\n",
              "      <td>97410.000000</td>\n",
              "      <td>97410.000000</td>\n",
              "      <td>97410.000000</td>\n",
              "      <td>97410.000000</td>\n",
              "      <td>97410.000000</td>\n",
              "      <td>9.741000e+04</td>\n",
              "    </tr>\n",
              "    <tr>\n",
              "      <th>mean</th>\n",
              "      <td>1.524636e+06</td>\n",
              "      <td>1.524636e+06</td>\n",
              "      <td>0.282497</td>\n",
              "      <td>7.086262</td>\n",
              "      <td>0.493081</td>\n",
              "      <td>2.959193</td>\n",
              "      <td>18.562622</td>\n",
              "      <td>6.905128e+02</td>\n",
              "      <td>0.034791</td>\n",
              "      <td>98.909091</td>\n",
              "      <td>8.489366e+02</td>\n",
              "      <td>141.065989</td>\n",
              "      <td>91.797937</td>\n",
              "      <td>9.621271</td>\n",
              "      <td>81.852459</td>\n",
              "      <td>10.340417</td>\n",
              "      <td>1.627283e+02</td>\n",
              "    </tr>\n",
              "    <tr>\n",
              "      <th>std</th>\n",
              "      <td>8.001310e+05</td>\n",
              "      <td>8.001310e+05</td>\n",
              "      <td>2.144294</td>\n",
              "      <td>12.387782</td>\n",
              "      <td>12.832834</td>\n",
              "      <td>14.545462</td>\n",
              "      <td>160.413540</td>\n",
              "      <td>1.681717e+04</td>\n",
              "      <td>1.674105</td>\n",
              "      <td>0.857747</td>\n",
              "      <td>2.287011e+04</td>\n",
              "      <td>4278.019743</td>\n",
              "      <td>1068.494928</td>\n",
              "      <td>177.190210</td>\n",
              "      <td>1412.496536</td>\n",
              "      <td>192.711603</td>\n",
              "      <td>7.687116e+03</td>\n",
              "    </tr>\n",
              "    <tr>\n",
              "      <th>min</th>\n",
              "      <td>1.000000e+01</td>\n",
              "      <td>1.000000e+01</td>\n",
              "      <td>0.000000</td>\n",
              "      <td>0.000000</td>\n",
              "      <td>0.000000</td>\n",
              "      <td>0.000000</td>\n",
              "      <td>0.000000</td>\n",
              "      <td>0.000000e+00</td>\n",
              "      <td>0.000000</td>\n",
              "      <td>97.000000</td>\n",
              "      <td>0.000000e+00</td>\n",
              "      <td>0.000000</td>\n",
              "      <td>0.000000</td>\n",
              "      <td>0.000000</td>\n",
              "      <td>0.000000</td>\n",
              "      <td>0.000000</td>\n",
              "      <td>0.000000e+00</td>\n",
              "    </tr>\n",
              "    <tr>\n",
              "      <th>25%</th>\n",
              "      <td>8.477925e+05</td>\n",
              "      <td>8.477925e+05</td>\n",
              "      <td>0.000000</td>\n",
              "      <td>0.990000</td>\n",
              "      <td>0.000000</td>\n",
              "      <td>0.000000</td>\n",
              "      <td>0.000000</td>\n",
              "      <td>0.000000e+00</td>\n",
              "      <td>0.000000</td>\n",
              "      <td>98.000000</td>\n",
              "      <td>0.000000e+00</td>\n",
              "      <td>0.000000</td>\n",
              "      <td>0.000000</td>\n",
              "      <td>0.000000</td>\n",
              "      <td>0.000000</td>\n",
              "      <td>0.000000</td>\n",
              "      <td>0.000000e+00</td>\n",
              "    </tr>\n",
              "    <tr>\n",
              "      <th>50%</th>\n",
              "      <td>1.489990e+06</td>\n",
              "      <td>1.489990e+06</td>\n",
              "      <td>0.000000</td>\n",
              "      <td>4.190000</td>\n",
              "      <td>0.000000</td>\n",
              "      <td>0.000000</td>\n",
              "      <td>0.000000</td>\n",
              "      <td>0.000000e+00</td>\n",
              "      <td>0.000000</td>\n",
              "      <td>99.000000</td>\n",
              "      <td>5.000000e+00</td>\n",
              "      <td>1.000000</td>\n",
              "      <td>0.000000</td>\n",
              "      <td>0.000000</td>\n",
              "      <td>0.000000</td>\n",
              "      <td>0.000000</td>\n",
              "      <td>0.000000e+00</td>\n",
              "    </tr>\n",
              "    <tr>\n",
              "      <th>75%</th>\n",
              "      <td>2.180648e+06</td>\n",
              "      <td>2.180648e+06</td>\n",
              "      <td>0.000000</td>\n",
              "      <td>9.990000</td>\n",
              "      <td>0.000000</td>\n",
              "      <td>0.000000</td>\n",
              "      <td>17.000000</td>\n",
              "      <td>0.000000e+00</td>\n",
              "      <td>0.000000</td>\n",
              "      <td>100.000000</td>\n",
              "      <td>3.500000e+01</td>\n",
              "      <td>10.000000</td>\n",
              "      <td>0.000000</td>\n",
              "      <td>0.000000</td>\n",
              "      <td>0.000000</td>\n",
              "      <td>0.000000</td>\n",
              "      <td>1.000000e+00</td>\n",
              "    </tr>\n",
              "    <tr>\n",
              "      <th>max</th>\n",
              "      <td>3.199580e+06</td>\n",
              "      <td>3.199580e+06</td>\n",
              "      <td>21.000000</td>\n",
              "      <td>999.980000</td>\n",
              "      <td>2366.000000</td>\n",
              "      <td>97.000000</td>\n",
              "      <td>9821.000000</td>\n",
              "      <td>3.441592e+06</td>\n",
              "      <td>100.000000</td>\n",
              "      <td>100.000000</td>\n",
              "      <td>5.764420e+06</td>\n",
              "      <td>895978.000000</td>\n",
              "      <td>145727.000000</td>\n",
              "      <td>19159.000000</td>\n",
              "      <td>208473.000000</td>\n",
              "      <td>19159.000000</td>\n",
              "      <td>1.284268e+06</td>\n",
              "    </tr>\n",
              "  </tbody>\n",
              "</table>\n",
              "</div>\n",
              "    <div class=\"colab-df-buttons\">\n",
              "\n",
              "  <div class=\"colab-df-container\">\n",
              "    <button class=\"colab-df-convert\" onclick=\"convertToInteractive('df-27fa124d-7b2d-421b-8553-8fa228e93306')\"\n",
              "            title=\"Convert this dataframe to an interactive table.\"\n",
              "            style=\"display:none;\">\n",
              "\n",
              "  <svg xmlns=\"http://www.w3.org/2000/svg\" height=\"24px\" viewBox=\"0 -960 960 960\">\n",
              "    <path d=\"M120-120v-720h720v720H120Zm60-500h600v-160H180v160Zm220 220h160v-160H400v160Zm0 220h160v-160H400v160ZM180-400h160v-160H180v160Zm440 0h160v-160H620v160ZM180-180h160v-160H180v160Zm440 0h160v-160H620v160Z\"/>\n",
              "  </svg>\n",
              "    </button>\n",
              "\n",
              "  <style>\n",
              "    .colab-df-container {\n",
              "      display:flex;\n",
              "      gap: 12px;\n",
              "    }\n",
              "\n",
              "    .colab-df-convert {\n",
              "      background-color: #E8F0FE;\n",
              "      border: none;\n",
              "      border-radius: 50%;\n",
              "      cursor: pointer;\n",
              "      display: none;\n",
              "      fill: #1967D2;\n",
              "      height: 32px;\n",
              "      padding: 0 0 0 0;\n",
              "      width: 32px;\n",
              "    }\n",
              "\n",
              "    .colab-df-convert:hover {\n",
              "      background-color: #E2EBFA;\n",
              "      box-shadow: 0px 1px 2px rgba(60, 64, 67, 0.3), 0px 1px 3px 1px rgba(60, 64, 67, 0.15);\n",
              "      fill: #174EA6;\n",
              "    }\n",
              "\n",
              "    .colab-df-buttons div {\n",
              "      margin-bottom: 4px;\n",
              "    }\n",
              "\n",
              "    [theme=dark] .colab-df-convert {\n",
              "      background-color: #3B4455;\n",
              "      fill: #D2E3FC;\n",
              "    }\n",
              "\n",
              "    [theme=dark] .colab-df-convert:hover {\n",
              "      background-color: #434B5C;\n",
              "      box-shadow: 0px 1px 3px 1px rgba(0, 0, 0, 0.15);\n",
              "      filter: drop-shadow(0px 1px 2px rgba(0, 0, 0, 0.3));\n",
              "      fill: #FFFFFF;\n",
              "    }\n",
              "  </style>\n",
              "\n",
              "    <script>\n",
              "      const buttonEl =\n",
              "        document.querySelector('#df-27fa124d-7b2d-421b-8553-8fa228e93306 button.colab-df-convert');\n",
              "      buttonEl.style.display =\n",
              "        google.colab.kernel.accessAllowed ? 'block' : 'none';\n",
              "\n",
              "      async function convertToInteractive(key) {\n",
              "        const element = document.querySelector('#df-27fa124d-7b2d-421b-8553-8fa228e93306');\n",
              "        const dataTable =\n",
              "          await google.colab.kernel.invokeFunction('convertToInteractive',\n",
              "                                                    [key], {});\n",
              "        if (!dataTable) return;\n",
              "\n",
              "        const docLinkHtml = 'Like what you see? Visit the ' +\n",
              "          '<a target=\"_blank\" href=https://colab.research.google.com/notebooks/data_table.ipynb>data table notebook</a>'\n",
              "          + ' to learn more about interactive tables.';\n",
              "        element.innerHTML = '';\n",
              "        dataTable['output_type'] = 'display_data';\n",
              "        await google.colab.output.renderOutput(dataTable, element);\n",
              "        const docLink = document.createElement('div');\n",
              "        docLink.innerHTML = docLinkHtml;\n",
              "        element.appendChild(docLink);\n",
              "      }\n",
              "    </script>\n",
              "  </div>\n",
              "\n",
              "\n",
              "<div id=\"df-c263263f-218d-45a0-90fa-50b0f747a40f\">\n",
              "  <button class=\"colab-df-quickchart\" onclick=\"quickchart('df-c263263f-218d-45a0-90fa-50b0f747a40f')\"\n",
              "            title=\"Suggest charts\"\n",
              "            style=\"display:none;\">\n",
              "\n",
              "<svg xmlns=\"http://www.w3.org/2000/svg\" height=\"24px\"viewBox=\"0 0 24 24\"\n",
              "     width=\"24px\">\n",
              "    <g>\n",
              "        <path d=\"M19 3H5c-1.1 0-2 .9-2 2v14c0 1.1.9 2 2 2h14c1.1 0 2-.9 2-2V5c0-1.1-.9-2-2-2zM9 17H7v-7h2v7zm4 0h-2V7h2v10zm4 0h-2v-4h2v4z\"/>\n",
              "    </g>\n",
              "</svg>\n",
              "  </button>\n",
              "\n",
              "<style>\n",
              "  .colab-df-quickchart {\n",
              "      --bg-color: #E8F0FE;\n",
              "      --fill-color: #1967D2;\n",
              "      --hover-bg-color: #E2EBFA;\n",
              "      --hover-fill-color: #174EA6;\n",
              "      --disabled-fill-color: #AAA;\n",
              "      --disabled-bg-color: #DDD;\n",
              "  }\n",
              "\n",
              "  [theme=dark] .colab-df-quickchart {\n",
              "      --bg-color: #3B4455;\n",
              "      --fill-color: #D2E3FC;\n",
              "      --hover-bg-color: #434B5C;\n",
              "      --hover-fill-color: #FFFFFF;\n",
              "      --disabled-bg-color: #3B4455;\n",
              "      --disabled-fill-color: #666;\n",
              "  }\n",
              "\n",
              "  .colab-df-quickchart {\n",
              "    background-color: var(--bg-color);\n",
              "    border: none;\n",
              "    border-radius: 50%;\n",
              "    cursor: pointer;\n",
              "    display: none;\n",
              "    fill: var(--fill-color);\n",
              "    height: 32px;\n",
              "    padding: 0;\n",
              "    width: 32px;\n",
              "  }\n",
              "\n",
              "  .colab-df-quickchart:hover {\n",
              "    background-color: var(--hover-bg-color);\n",
              "    box-shadow: 0 1px 2px rgba(60, 64, 67, 0.3), 0 1px 3px 1px rgba(60, 64, 67, 0.15);\n",
              "    fill: var(--button-hover-fill-color);\n",
              "  }\n",
              "\n",
              "  .colab-df-quickchart-complete:disabled,\n",
              "  .colab-df-quickchart-complete:disabled:hover {\n",
              "    background-color: var(--disabled-bg-color);\n",
              "    fill: var(--disabled-fill-color);\n",
              "    box-shadow: none;\n",
              "  }\n",
              "\n",
              "  .colab-df-spinner {\n",
              "    border: 2px solid var(--fill-color);\n",
              "    border-color: transparent;\n",
              "    border-bottom-color: var(--fill-color);\n",
              "    animation:\n",
              "      spin 1s steps(1) infinite;\n",
              "  }\n",
              "\n",
              "  @keyframes spin {\n",
              "    0% {\n",
              "      border-color: transparent;\n",
              "      border-bottom-color: var(--fill-color);\n",
              "      border-left-color: var(--fill-color);\n",
              "    }\n",
              "    20% {\n",
              "      border-color: transparent;\n",
              "      border-left-color: var(--fill-color);\n",
              "      border-top-color: var(--fill-color);\n",
              "    }\n",
              "    30% {\n",
              "      border-color: transparent;\n",
              "      border-left-color: var(--fill-color);\n",
              "      border-top-color: var(--fill-color);\n",
              "      border-right-color: var(--fill-color);\n",
              "    }\n",
              "    40% {\n",
              "      border-color: transparent;\n",
              "      border-right-color: var(--fill-color);\n",
              "      border-top-color: var(--fill-color);\n",
              "    }\n",
              "    60% {\n",
              "      border-color: transparent;\n",
              "      border-right-color: var(--fill-color);\n",
              "    }\n",
              "    80% {\n",
              "      border-color: transparent;\n",
              "      border-right-color: var(--fill-color);\n",
              "      border-bottom-color: var(--fill-color);\n",
              "    }\n",
              "    90% {\n",
              "      border-color: transparent;\n",
              "      border-bottom-color: var(--fill-color);\n",
              "    }\n",
              "  }\n",
              "</style>\n",
              "\n",
              "  <script>\n",
              "    async function quickchart(key) {\n",
              "      const quickchartButtonEl =\n",
              "        document.querySelector('#' + key + ' button');\n",
              "      quickchartButtonEl.disabled = true;  // To prevent multiple clicks.\n",
              "      quickchartButtonEl.classList.add('colab-df-spinner');\n",
              "      try {\n",
              "        const charts = await google.colab.kernel.invokeFunction(\n",
              "            'suggestCharts', [key], {});\n",
              "      } catch (error) {\n",
              "        console.error('Error during call to suggestCharts:', error);\n",
              "      }\n",
              "      quickchartButtonEl.classList.remove('colab-df-spinner');\n",
              "      quickchartButtonEl.classList.add('colab-df-quickchart-complete');\n",
              "    }\n",
              "    (() => {\n",
              "      let quickchartButtonEl =\n",
              "        document.querySelector('#df-c263263f-218d-45a0-90fa-50b0f747a40f button');\n",
              "      quickchartButtonEl.style.display =\n",
              "        google.colab.kernel.accessAllowed ? 'block' : 'none';\n",
              "    })();\n",
              "  </script>\n",
              "</div>\n",
              "\n",
              "    </div>\n",
              "  </div>\n"
            ],
            "application/vnd.google.colaboratory.intrinsic+json": {
              "type": "dataframe",
              "summary": "{\n  \"name\": \"df\",\n  \"rows\": 8,\n  \"fields\": [\n    {\n      \"column\": \"AppID\",\n      \"properties\": {\n        \"dtype\": \"number\",\n        \"std\": 1072555.1373507583,\n        \"min\": 10.0,\n        \"max\": 3199580.0,\n        \"num_unique_values\": 8,\n        \"samples\": [\n          1524635.538517606,\n          1489990.0,\n          97410.0\n        ],\n        \"semantic_type\": \"\",\n        \"description\": \"\"\n      }\n    },\n    {\n      \"column\": \"index\",\n      \"properties\": {\n        \"dtype\": \"number\",\n        \"std\": 1072555.1373507583,\n        \"min\": 10.0,\n        \"max\": 3199580.0,\n        \"num_unique_values\": 8,\n        \"samples\": [\n          1524635.538517606,\n          1489990.0,\n          97410.0\n        ],\n        \"semantic_type\": \"\",\n        \"description\": \"\"\n      }\n    },\n    {\n      \"column\": \"Required age\",\n      \"properties\": {\n        \"dtype\": \"number\",\n        \"std\": 34438.45330784615,\n        \"min\": 0.0,\n        \"max\": 97410.0,\n        \"num_unique_values\": 5,\n        \"samples\": [\n          0.28249666358690073,\n          21.0,\n          2.1442939774246597\n        ],\n        \"semantic_type\": \"\",\n        \"description\": \"\"\n      }\n    },\n    {\n      \"column\": \"Price\",\n      \"properties\": {\n        \"dtype\": \"number\",\n        \"std\": 34389.13944346468,\n        \"min\": 0.0,\n        \"max\": 97410.0,\n        \"num_unique_values\": 8,\n        \"samples\": [\n          7.086261574786982,\n          4.19,\n          97410.0\n        ],\n        \"semantic_type\": \"\",\n        \"description\": \"\"\n      }\n    },\n    {\n      \"column\": \"DLC count\",\n      \"properties\": {\n        \"dtype\": \"number\",\n        \"std\": 34329.42828602588,\n        \"min\": 0.0,\n        \"max\": 97410.0,\n        \"num_unique_values\": 5,\n        \"samples\": [\n          0.49308079252643466,\n          2366.0,\n          12.832833635490868\n        ],\n        \"semantic_type\": \"\",\n        \"description\": \"\"\n      }\n    },\n    {\n      \"column\": \"Metacritic score\",\n      \"properties\": {\n        \"dtype\": \"number\",\n        \"std\": 34433.86850866598,\n        \"min\": 0.0,\n        \"max\": 97410.0,\n        \"num_unique_values\": 5,\n        \"samples\": [\n          2.959193101324299,\n          97.0,\n          14.54546178387436\n        ],\n        \"semantic_type\": \"\",\n        \"description\": \"\"\n      }\n    },\n    {\n      \"column\": \"Achievements\",\n      \"properties\": {\n        \"dtype\": \"number\",\n        \"std\": 34106.17268421043,\n        \"min\": 0.0,\n        \"max\": 97410.0,\n        \"num_unique_values\": 6,\n        \"samples\": [\n          97410.0,\n          18.562621907401706,\n          9821.0\n        ],\n        \"semantic_type\": \"\",\n        \"description\": \"\"\n      }\n    },\n    {\n      \"column\": \"Recommendations\",\n      \"properties\": {\n        \"dtype\": \"number\",\n        \"std\": 1211447.3253809756,\n        \"min\": 0.0,\n        \"max\": 3441592.0,\n        \"num_unique_values\": 5,\n        \"samples\": [\n          690.5128118263012,\n          3441592.0,\n          16817.17102622837\n        ],\n        \"semantic_type\": \"\",\n        \"description\": \"\"\n      }\n    },\n    {\n      \"column\": \"User score\",\n      \"properties\": {\n        \"dtype\": \"number\",\n        \"std\": 34434.516386341245,\n        \"min\": 0.0,\n        \"max\": 97410.0,\n        \"num_unique_values\": 5,\n        \"samples\": [\n          0.03479108921055333,\n          100.0,\n          1.674104834064219\n        ],\n        \"semantic_type\": \"\",\n        \"description\": \"\"\n      }\n    },\n    {\n      \"column\": \"Score rank\",\n      \"properties\": {\n        \"dtype\": \"number\",\n        \"std\": 37.20680928646738,\n        \"min\": 0.8577466915658598,\n        \"max\": 100.0,\n        \"num_unique_values\": 7,\n        \"samples\": [\n          44.0,\n          98.9090909090909,\n          99.0\n        ],\n        \"semantic_type\": \"\",\n        \"description\": \"\"\n      }\n    },\n    {\n      \"column\": \"Positive\",\n      \"properties\": {\n        \"dtype\": \"number\",\n        \"std\": 2032188.4965932297,\n        \"min\": 0.0,\n        \"max\": 5764420.0,\n        \"num_unique_values\": 7,\n        \"samples\": [\n          97410.0,\n          848.9366286828867,\n          35.0\n        ],\n        \"semantic_type\": \"\",\n        \"description\": \"\"\n      }\n    },\n    {\n      \"column\": \"Negative\",\n      \"properties\": {\n        \"dtype\": \"number\",\n        \"std\": 313466.4460309315,\n        \"min\": 0.0,\n        \"max\": 895978.0,\n        \"num_unique_values\": 7,\n        \"samples\": [\n          97410.0,\n          141.06598911816036,\n          10.0\n        ],\n        \"semantic_type\": \"\",\n        \"description\": \"\"\n      }\n    },\n    {\n      \"column\": \"Average playtime forever\",\n      \"properties\": {\n        \"dtype\": \"number\",\n        \"std\": 57651.75108809667,\n        \"min\": 0.0,\n        \"max\": 145727.0,\n        \"num_unique_values\": 5,\n        \"samples\": [\n          91.79793655682168,\n          145727.0,\n          1068.4949277699732\n        ],\n        \"semantic_type\": \"\",\n        \"description\": \"\"\n      }\n    },\n    {\n      \"column\": \"Average playtime two weeks\",\n      \"properties\": {\n        \"dtype\": \"number\",\n        \"std\": 34125.43444122935,\n        \"min\": 0.0,\n        \"max\": 97410.0,\n        \"num_unique_values\": 5,\n        \"samples\": [\n          9.621270916743661,\n          19159.0,\n          177.19020999854098\n        ],\n        \"semantic_type\": \"\",\n        \"description\": \"\"\n      }\n    },\n    {\n      \"column\": \"Median playtime forever\",\n      \"properties\": {\n        \"dtype\": \"number\",\n        \"std\": 76664.01403987485,\n        \"min\": 0.0,\n        \"max\": 208473.0,\n        \"num_unique_values\": 5,\n        \"samples\": [\n          81.852458679807,\n          208473.0,\n          1412.4965356171153\n        ],\n        \"semantic_type\": \"\",\n        \"description\": \"\"\n      }\n    },\n    {\n      \"column\": \"Median playtime two weeks\",\n      \"properties\": {\n        \"dtype\": \"number\",\n        \"std\": 34124.45417472699,\n        \"min\": 0.0,\n        \"max\": 97410.0,\n        \"num_unique_values\": 5,\n        \"samples\": [\n          10.340416794990247,\n          19159.0,\n          192.71160336936148\n        ],\n        \"semantic_type\": \"\",\n        \"description\": \"\"\n      }\n    },\n    {\n      \"column\": \"Peak CCU\",\n      \"properties\": {\n        \"dtype\": \"number\",\n        \"std\": 450006.8762788724,\n        \"min\": 0.0,\n        \"max\": 1284268.0,\n        \"num_unique_values\": 6,\n        \"samples\": [\n          97410.0,\n          162.72826198542245,\n          1284268.0\n        ],\n        \"semantic_type\": \"\",\n        \"description\": \"\"\n      }\n    }\n  ]\n}"
            }
          },
          "metadata": {},
          "execution_count": 8
        }
      ],
      "source": [
        "df.describe()"
      ]
    },
    {
      "cell_type": "markdown",
      "id": "009b610b-40f5-430c-b4ec-00de234315d1",
      "metadata": {
        "id": "009b610b-40f5-430c-b4ec-00de234315d1"
      },
      "source": [
        "## Missing Data"
      ]
    },
    {
      "cell_type": "code",
      "execution_count": 9,
      "id": "11b33714-6be9-4f5d-ad87-e45b2501c2b3",
      "metadata": {
        "id": "11b33714-6be9-4f5d-ad87-e45b2501c2b3",
        "outputId": "725fe2f9-02f8-4b4a-b13e-b16ecaa702f4",
        "colab": {
          "base_uri": "https://localhost:8080/"
        }
      },
      "outputs": [
        {
          "output_type": "stream",
          "name": "stdout",
          "text": [
            "AppID                             0\n",
            "index                             0\n",
            "Name                              6\n",
            "Release date                      0\n",
            "Required age                      0\n",
            "Price                             0\n",
            "DLC count                         0\n",
            "Detailed description           4848\n",
            "About the game                 4870\n",
            "Short description              4779\n",
            "Reviews                       87285\n",
            "Header image                      0\n",
            "Website                       54673\n",
            "Support url                   51510\n",
            "Support email                 16035\n",
            "Windows                           0\n",
            "Mac                               0\n",
            "Linux                             0\n",
            "Metacritic score                  0\n",
            "Metacritic url                93457\n",
            "Achievements                      0\n",
            "Recommendations                   0\n",
            "Notes                         81937\n",
            "Supported languages            4831\n",
            "Full audio languages          57017\n",
            "Packages                          0\n",
            "Developers                     4877\n",
            "Publishers                     5171\n",
            "Categories                     5913\n",
            "Genres                         4841\n",
            "Screenshots                    2895\n",
            "Movies                         7891\n",
            "User score                        0\n",
            "Score rank                    97366\n",
            "Positive                          0\n",
            "Negative                          0\n",
            "Estimated owners                  0\n",
            "Average playtime forever          0\n",
            "Average playtime two weeks        0\n",
            "Median playtime forever           0\n",
            "Median playtime two weeks         0\n",
            "Peak CCU                          0\n",
            "Tags                          29763\n",
            "dtype: int64\n"
          ]
        }
      ],
      "source": [
        "print(df.isnull().sum())"
      ]
    },
    {
      "cell_type": "code",
      "execution_count": 10,
      "id": "c17a6a8e-2a15-41d0-9ce0-80eac8c62b8e",
      "metadata": {
        "id": "c17a6a8e-2a15-41d0-9ce0-80eac8c62b8e",
        "outputId": "edbc8720-9cf2-49f6-d933-c55240d617a7",
        "colab": {
          "base_uri": "https://localhost:8080/"
        }
      },
      "outputs": [
        {
          "output_type": "stream",
          "name": "stdout",
          "text": [
            "Training set: (7077, 8), Test set: (3033, 8)\n"
          ]
        },
        {
          "output_type": "stream",
          "name": "stderr",
          "text": [
            "<ipython-input-10-00565fe608f9>:6: SettingWithCopyWarning: \n",
            "A value is trying to be set on a copy of a slice from a DataFrame.\n",
            "Try using .loc[row_indexer,col_indexer] = value instead\n",
            "\n",
            "See the caveats in the documentation: https://pandas.pydata.org/pandas-docs/stable/user_guide/indexing.html#returning-a-view-versus-a-copy\n",
            "  df['About the game'] = df['About the game'].astype(str)\n",
            "<ipython-input-10-00565fe608f9>:7: SettingWithCopyWarning: \n",
            "A value is trying to be set on a copy of a slice from a DataFrame.\n",
            "Try using .loc[row_indexer,col_indexer] = value instead\n",
            "\n",
            "See the caveats in the documentation: https://pandas.pydata.org/pandas-docs/stable/user_guide/indexing.html#returning-a-view-versus-a-copy\n",
            "  df['About the game'] = df['About the game'].apply(lambda x: len(x))\n"
          ]
        }
      ],
      "source": [
        "predictors = ['User score', 'Metacritic score', 'Positive', 'Negative', 'Recommendations', 'Reviews', 'About the game', 'Estimated owners']\n",
        "target = 'User score'\n",
        "\n",
        "df = df.dropna(subset = predictors)\n",
        "\n",
        "df['About the game'] = df['About the game'].astype(str)\n",
        "df['About the game'] = df['About the game'].apply(lambda x: len(x))\n",
        "\n",
        "X = df[predictors]\n",
        "y = df[target]\n",
        "\n",
        "# Split into training (70%) and testing (30%) sets\n",
        "X_train, X_test, y_train, y_test = train_test_split(X, y, test_size = 0.3, random_state = 42)\n",
        "\n",
        "print(f\"Training set: {X_train.shape}, Test set: {X_test.shape}\")"
      ]
    },
    {
      "cell_type": "markdown",
      "id": "f980c113-c8ce-4505-bc36-6cdf1b457a6d",
      "metadata": {
        "id": "f980c113-c8ce-4505-bc36-6cdf1b457a6d"
      },
      "source": [
        "## Comparing Metacritic Score & Positive Reviews"
      ]
    },
    {
      "cell_type": "code",
      "execution_count": 11,
      "id": "4556e867-839f-4d2a-880b-de71d8a56421",
      "metadata": {
        "id": "4556e867-839f-4d2a-880b-de71d8a56421",
        "outputId": "4af550b6-ba72-4875-b46b-e730ac29f4ad",
        "colab": {
          "base_uri": "https://localhost:8080/",
          "height": 564
        }
      },
      "outputs": [
        {
          "output_type": "display_data",
          "data": {
            "text/plain": [
              "<Figure size 1000x600 with 1 Axes>"
            ],
            "image/png": "[encoded data removed]"
          },
          "metadata": {}
        }
      ],
      "source": [
        "plt.figure(figsize=(10, 6))\n",
        "plt.scatter(df['Metacritic score'], df['Positive'], c = 'blue', alpha = 0.5)\n",
        "\n",
        "plt.title('Metacritic Score vs. Positive Reviews')\n",
        "plt.xlabel('Metacritic Score')\n",
        "plt.ylabel('Positive Reviews')\n",
        "\n",
        "plt.show()"
      ]
    },
    {
      "cell_type": "code",
      "execution_count": 11,
      "id": "818507c5-4a8f-4e85-a914-484a163299d3",
      "metadata": {
        "id": "818507c5-4a8f-4e85-a914-484a163299d3"
      },
      "outputs": [],
      "source": []
    }
  ],
  "metadata": {
    "kernelspec": {
      "display_name": "base",
      "language": "python",
      "name": "python3"
    },
    "language_info": {
      "codemirror_mode": {
        "name": "ipython",
        "version": 3
      },
      "file_extension": ".py",
      "mimetype": "text/x-python",
      "name": "python",
      "nbconvert_exporter": "python",
      "pygments_lexer": "ipython3",
      "version": "3.12.7"
    },
    "colab": {
      "provenance": [],
      "include_colab_link": true
    }
  },
  "nbformat": 4,
  "nbformat_minor": 5
}